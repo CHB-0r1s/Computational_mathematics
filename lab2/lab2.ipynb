{
 "cells": [
  {
   "cell_type": "code",
   "execution_count": 3,
   "id": "45aa7c24-3093-4e49-83fb-e2c153588b45",
   "metadata": {},
   "outputs": [],
   "source": [
    "import matplotlib.pyplot as plt\n",
    "from sympy.solvers.solveset import linsolve\n",
    "import numpy as np\n",
    "import pandas as pd\n",
    "import sympy as sp\n",
    "\n",
    "from nlin_eq_solve_methods import *"
   ]
  },
  {
   "cell_type": "code",
   "execution_count": 146,
   "id": "65222cf2-7d2a-4db1-ae1e-fb4bc5a6c94f",
   "metadata": {},
   "outputs": [],
   "source": [
    "x = np.linspace(-5, 5, 100000)\n",
    "y = 3 * x ** 3 + 1.7 * x ** 2 - 15.42 * x + 6.89"
   ]
  },
  {
   "cell_type": "code",
   "execution_count": 147,
   "id": "e530264f-bbd9-4574-b77d-a5f56dc83bb1",
   "metadata": {},
   "outputs": [
    {
     "data": {
      "image/png": "[encoded data removed]",
      "text/plain": [
       "<Figure size 640x480 with 1 Axes>"
      ]
     },
     "metadata": {},
     "output_type": "display_data"
    }
   ],
   "source": [
    "# Графическое решение, смотрим пересечение графика с Осями\n",
    "\n",
    "fig, ax = plt.subplots()\n",
    "\n",
    "ax.plot(x, y, linewidth=1.0)\n",
    "\n",
    "ax.set(xlim=(-5, 5),\n",
    "       ylim=(-100, 100))\n",
    "\n",
    "idx = np.argwhere(np.diff(np.sign(0 - y))).flatten()\n",
    "plt.plot(x[idx], y[idx], 'ro')\n",
    "plt.show()"
   ]
  },
  {
   "cell_type": "code",
   "execution_count": 148,
   "id": "e70b005d-54a5-4ab6-8fd8-445ceda97e66",
   "metadata": {},
   "outputs": [
    {
     "data": {
      "text/plain": [
       "[-2.7444774447744478, 0.4982549825498257, 1.6794667946679471]"
      ]
     },
     "execution_count": 148,
     "metadata": {},
     "output_type": "execute_result"
    }
   ],
   "source": [
    "x_root_dots = list(x[idx])\n",
    "x_root_dots"
   ]
  },
  {
   "cell_type": "code",
   "execution_count": 54,
   "id": "74bebaf8-5cde-4372-aea7-5b191c1fe524",
   "metadata": {},
   "outputs": [],
   "source": [
    "manual_intervals = [[-3, -2], [0.4, 0.5], [1.5, 2]]"
   ]
  },
  {
   "cell_type": "markdown",
   "id": "776bec68-7b0a-4587-8080-2478a698e2c5",
   "metadata": {
    "jp-MarkdownHeadingCollapsed": true
   },
   "source": [
    "## Ручное вычисление крайнего правого корня методом простой итерации (5)"
   ]
  },
  {
   "cell_type": "code",
   "execution_count": 122,
   "id": "fc4108b7-a446-4dbe-9b50-e3cd68cc1d80",
   "metadata": {},
   "outputs": [
    {
     "data": {
      "text/plain": [
       "(1.5, 2)"
      ]
     },
     "execution_count": 122,
     "metadata": {},
     "output_type": "execute_result"
    }
   ],
   "source": [
    "a, b = manual_intervals[2]\n",
    "a, b"
   ]
  },
  {
   "cell_type": "code",
   "execution_count": 56,
   "id": "f02c0fd5-e652-45e6-8e96-de025f6d0a24",
   "metadata": {},
   "outputs": [],
   "source": [
    "x_sym = sp.symbols('x')"
   ]
  },
  {
   "cell_type": "code",
   "execution_count": 57,
   "id": "98578667-32ab-4d5b-9454-a70e97a56e7a",
   "metadata": {},
   "outputs": [
    {
     "data": {
      "text/latex": [
       "$\\displaystyle 3 x^{3} + 1.7 x^{2} - 15.42 x + 6.89$"
      ],
      "text/plain": [
       "3*x**3 + 1.7*x**2 - 15.42*x + 6.89"
      ]
     },
     "execution_count": 57,
     "metadata": {},
     "output_type": "execute_result"
    }
   ],
   "source": [
    "start_expr = 3 * x_sym ** 3 + 1.7 * x_sym ** 2 - 15.42 * x_sym + 6.89\n",
    "start_expr"
   ]
  },
  {
   "cell_type": "markdown",
   "id": "3db478f9-121c-4f9c-b39d-69e78e775895",
   "metadata": {
    "jp-MarkdownHeadingCollapsed": true
   },
   "source": [
    "### Первый способ доказать сходимость\n",
    "Выражаем x из членов разного порядка"
   ]
  },
  {
   "cell_type": "code",
   "execution_count": 58,
   "id": "8d235f4e-2382-429b-8a89-4b14474c9974",
   "metadata": {},
   "outputs": [],
   "source": [
    "expr = start_expr / 15.42\n",
    "phi = expr + x_sym"
   ]
  },
  {
   "cell_type": "code",
   "execution_count": 59,
   "id": "e3826e77-2f80-4af2-8241-3eb8b05370a9",
   "metadata": {},
   "outputs": [
    {
     "data": {
      "text/latex": [
       "$\\displaystyle 0.194552529182879 x^{3} + 0.110246433203632 x^{2} + 0.446822308690013$"
      ],
      "text/plain": [
       "0.194552529182879*x**3 + 0.110246433203632*x**2 + 0.446822308690013"
      ]
     },
     "execution_count": 59,
     "metadata": {},
     "output_type": "execute_result"
    }
   ],
   "source": [
    "phi"
   ]
  },
  {
   "cell_type": "code",
   "execution_count": 60,
   "id": "f550bb4c-ea74-4059-bb05-a33eda6d9650",
   "metadata": {},
   "outputs": [
    {
     "data": {
      "text/latex": [
       "$\\displaystyle 0.583657587548638 x^{2} + 0.220492866407263 x$"
      ],
      "text/plain": [
       "0.583657587548638*x**2 + 0.220492866407263*x"
      ]
     },
     "execution_count": 60,
     "metadata": {},
     "output_type": "execute_result"
    }
   ],
   "source": [
    "phi_df = sp.diff(phi, x_sym)\n",
    "phi_df"
   ]
  },
  {
   "cell_type": "code",
   "execution_count": 61,
   "id": "6904e80a-af0d-49ad-bf7c-584512169c37",
   "metadata": {},
   "outputs": [
    {
     "data": {
      "text/latex": [
       "$\\displaystyle 1.64396887159533$"
      ],
      "text/plain": [
       "1.64396887159533"
      ]
     },
     "execution_count": 61,
     "metadata": {},
     "output_type": "execute_result"
    }
   ],
   "source": [
    "phi_df.subs(x_sym, a)"
   ]
  },
  {
   "cell_type": "code",
   "execution_count": 62,
   "id": "313b7737-b07c-44cb-b47c-16dc6cfedbf0",
   "metadata": {},
   "outputs": [
    {
     "data": {
      "text/latex": [
       "$\\displaystyle 2.77561608300908$"
      ],
      "text/plain": [
       "2.77561608300908"
      ]
     },
     "execution_count": 62,
     "metadata": {},
     "output_type": "execute_result"
    }
   ],
   "source": [
    "phi_df.subs(x_sym, b)"
   ]
  },
  {
   "cell_type": "code",
   "execution_count": 63,
   "id": "75c25892-713e-4855-9cf0-5eb915a2551c",
   "metadata": {},
   "outputs": [
    {
     "data": {
      "text/latex": [
       "$\\displaystyle \\text{False}$"
      ],
      "text/plain": [
       "False"
      ]
     },
     "execution_count": 63,
     "metadata": {},
     "output_type": "execute_result"
    }
   ],
   "source": [
    "q = max(phi_df.subs(x_sym, a), phi_df.subs(x_sym, b))\n",
    "q < 1"
   ]
  },
  {
   "cell_type": "markdown",
   "id": "64cc1fef-ec47-47f7-aac1-bbf105f83e8d",
   "metadata": {
    "jp-MarkdownHeadingCollapsed": true
   },
   "source": [
    "### Второй способ доказать сходимость\n",
    "Введение параматра лямбда"
   ]
  },
  {
   "cell_type": "code",
   "execution_count": 72,
   "id": "a84308f7-7352-4e0e-9bac-4c0aa96f3253",
   "metadata": {},
   "outputs": [
    {
     "data": {
      "text/latex": [
       "$\\displaystyle 3 x^{3} + 1.7 x^{2} - 15.42 x + 6.89$"
      ],
      "text/plain": [
       "3*x**3 + 1.7*x**2 - 15.42*x + 6.89"
      ]
     },
     "execution_count": 72,
     "metadata": {},
     "output_type": "execute_result"
    }
   ],
   "source": [
    "expr = start_expr\n",
    "expr"
   ]
  },
  {
   "cell_type": "code",
   "execution_count": 73,
   "id": "0721df23-13ad-46ab-8c11-5b3cfbe1151a",
   "metadata": {},
   "outputs": [
    {
     "data": {
      "text/latex": [
       "$\\displaystyle \\lambda \\left(3 x^{3} + 1.7 x^{2} - 15.42 x + 6.89\\right) + x$"
      ],
      "text/plain": [
       "lambda*(3*x**3 + 1.7*x**2 - 15.42*x + 6.89) + x"
      ]
     },
     "execution_count": 73,
     "metadata": {},
     "output_type": "execute_result"
    }
   ],
   "source": [
    "lm = sp.symbols('lambda')\n",
    "phi = x_sym + lm * start_expr\n",
    "phi"
   ]
  },
  {
   "cell_type": "code",
   "execution_count": 74,
   "id": "a9ce3980-c7de-457d-bea6-63bea4328ca1",
   "metadata": {},
   "outputs": [],
   "source": [
    "s_e_diff = sp.diff(expr, x_sym)\n",
    "\n",
    "a, b = manual_intervals[2]\n",
    "expr_diff_a = abs(s_e_diff.subs(x_sym, a))\n",
    "expr_diff_b = abs(s_e_diff.subs(x_sym, b))"
   ]
  },
  {
   "cell_type": "code",
   "execution_count": 75,
   "id": "6739d689-2920-4c14-8542-b40a12c3ce67",
   "metadata": {},
   "outputs": [],
   "source": [
    "lm_res = (-1 / max(expr_diff_a, expr_diff_b))\n",
    "\n",
    "phi_res = phi.subs(lm, lm_res)\n",
    "\n",
    "phi_res_diff = sp.diff(phi_res, x_sym)"
   ]
  },
  {
   "cell_type": "code",
   "execution_count": 78,
   "id": "80c0eefd-a580-4a98-8c6e-a8de8afec0dc",
   "metadata": {},
   "outputs": [
    {
     "data": {
      "text/latex": [
       "$\\displaystyle \\text{True}$"
      ],
      "text/plain": [
       "True"
      ]
     },
     "execution_count": 78,
     "metadata": {},
     "output_type": "execute_result"
    }
   ],
   "source": [
    "phi_res_diff.subs(x_sym, a) < 1"
   ]
  },
  {
   "cell_type": "code",
   "execution_count": 79,
   "id": "a5f0052d-8464-45d2-91d6-e16818a9525f",
   "metadata": {},
   "outputs": [
    {
     "data": {
      "text/latex": [
       "$\\displaystyle \\text{True}$"
      ],
      "text/plain": [
       "True"
      ]
     },
     "execution_count": 79,
     "metadata": {},
     "output_type": "execute_result"
    }
   ],
   "source": [
    "phi_res_diff.subs(x_sym, b) < 1"
   ]
  },
  {
   "cell_type": "markdown",
   "id": "c525947c-d770-4286-88c7-213403174725",
   "metadata": {},
   "source": [
    "Условие сходимости выполняется"
   ]
  },
  {
   "cell_type": "markdown",
   "id": "86a96a33-4260-4e15-a23b-c17816bfb36c",
   "metadata": {
    "jp-MarkdownHeadingCollapsed": true
   },
   "source": [
    "### Расчет и заполнение таблицы"
   ]
  },
  {
   "cell_type": "code",
   "execution_count": 82,
   "id": "8950c4a5-6e2c-47ae-99ae-2e4cedc1bd47",
   "metadata": {},
   "outputs": [],
   "source": [
    "# Заполним таблицу итераций\n",
    "\n",
    "x_0 = a\n",
    "x_1 = round(phi_res.subs(x_sym, x_0), 3)\n",
    "x_2 = round(phi_res.subs(x_sym, x_1), 3)\n",
    "x_3 = round(phi_res.subs(x_sym, x_2), 3)\n",
    "x_4 = round(phi_res.subs(x_sym, x_3), 3)\n",
    "x_5 = round(phi_res.subs(x_sym, x_4), 3)\n",
    "\n",
    "table_5_data = {\n",
    "    'x_k': [x_0, x_1, x_2, x_3, x_4],\n",
    "    'x_k+1': [x_1, x_2, x_3, x_4, x_5],\n",
    "    'f(x_k+1)': [round(expr.subs(x_sym, x_1), 3),\n",
    "                 round(expr.subs(x_sym, x_2), 3),\n",
    "                 round(expr.subs(x_sym, x_3), 3),\n",
    "                 round(expr.subs(x_sym, x_4), 3),\n",
    "                 round(expr.subs(x_sym, x_5), 3),\n",
    "                ],\n",
    "    '| x_k+1 - x_k |': [round(abs(x_1 - x_0), 3),\n",
    "                        round(abs(x_2 - x_1), 3),\n",
    "                        round(abs(x_3 - x_2), 3),\n",
    "                        round(abs(x_4 - x_3), 3),\n",
    "                        round(abs(x_5 - x_4), 3),\n",
    "                       ]\n",
    "} "
   ]
  },
  {
   "cell_type": "code",
   "execution_count": 83,
   "id": "1da352f0-72d7-4209-a8c0-e5ee766aef35",
   "metadata": {},
   "outputs": [
    {
     "data": {
      "text/html": [
       "<div>\n",
       "<style scoped>\n",
       "    .dataframe tbody tr th:only-of-type {\n",
       "        vertical-align: middle;\n",
       "    }\n",
       "\n",
       "    .dataframe tbody tr th {\n",
       "        vertical-align: top;\n",
       "    }\n",
       "\n",
       "    .dataframe thead th {\n",
       "        text-align: right;\n",
       "    }\n",
       "</style>\n",
       "<table border=\"1\" class=\"dataframe\">\n",
       "  <thead>\n",
       "    <tr style=\"text-align: right;\">\n",
       "      <th></th>\n",
       "      <th>x_k</th>\n",
       "      <th>x_k+1</th>\n",
       "      <th>f(x_k+1)</th>\n",
       "      <th>| x_k+1 - x_k |</th>\n",
       "    </tr>\n",
       "  </thead>\n",
       "  <tbody>\n",
       "    <tr>\n",
       "      <th>1</th>\n",
       "      <td>1.5</td>\n",
       "      <td>1.584</td>\n",
       "      <td>-1.347</td>\n",
       "      <td>0.084</td>\n",
       "    </tr>\n",
       "    <tr>\n",
       "      <th>2</th>\n",
       "      <td>1.584</td>\n",
       "      <td>1.633</td>\n",
       "      <td>-0.693</td>\n",
       "      <td>0.049</td>\n",
       "    </tr>\n",
       "    <tr>\n",
       "      <th>3</th>\n",
       "      <td>1.633</td>\n",
       "      <td>1.658</td>\n",
       "      <td>-0.330</td>\n",
       "      <td>0.025</td>\n",
       "    </tr>\n",
       "    <tr>\n",
       "      <th>4</th>\n",
       "      <td>1.658</td>\n",
       "      <td>1.670</td>\n",
       "      <td>-0.148</td>\n",
       "      <td>0.012</td>\n",
       "    </tr>\n",
       "    <tr>\n",
       "      <th>5</th>\n",
       "      <td>1.670</td>\n",
       "      <td>1.675</td>\n",
       "      <td>-0.071</td>\n",
       "      <td>0.005</td>\n",
       "    </tr>\n",
       "  </tbody>\n",
       "</table>\n",
       "</div>"
      ],
      "text/plain": [
       "     x_k  x_k+1 f(x_k+1) | x_k+1 - x_k |\n",
       "1    1.5  1.584   -1.347           0.084\n",
       "2  1.584  1.633   -0.693           0.049\n",
       "3  1.633  1.658   -0.330           0.025\n",
       "4  1.658  1.670   -0.148           0.012\n",
       "5  1.670  1.675   -0.071           0.005"
      ]
     },
     "execution_count": 83,
     "metadata": {},
     "output_type": "execute_result"
    }
   ],
   "source": [
    "df_5 = pd.DataFrame(table_5_data)\n",
    "df_5.index += 1\n",
    "df_5"
   ]
  },
  {
   "cell_type": "markdown",
   "id": "0f7c1ba8-e28f-496a-a6f6-28890d897629",
   "metadata": {
    "jp-MarkdownHeadingCollapsed": true
   },
   "source": [
    "## Ручное вычисление центрального корня методом Ньютона (3)"
   ]
  },
  {
   "cell_type": "code",
   "execution_count": 121,
   "id": "e4597e83-b8a0-4219-8fb8-2f7ab069d5ba",
   "metadata": {},
   "outputs": [
    {
     "data": {
      "text/plain": [
       "(0.4, 0.5)"
      ]
     },
     "execution_count": 121,
     "metadata": {},
     "output_type": "execute_result"
    }
   ],
   "source": [
    "a, b = manual_intervals[1]\n",
    "a, b"
   ]
  },
  {
   "cell_type": "code",
   "execution_count": 102,
   "id": "5e125479-63c6-42e5-9471-5da3d4cc0b7c",
   "metadata": {},
   "outputs": [
    {
     "data": {
      "text/latex": [
       "$\\displaystyle 3 x^{3} + 1.7 x^{2} - 15.42 x + 6.89$"
      ],
      "text/plain": [
       "3*x**3 + 1.7*x**2 - 15.42*x + 6.89"
      ]
     },
     "execution_count": 102,
     "metadata": {},
     "output_type": "execute_result"
    }
   ],
   "source": [
    "x_sym = sp.symbols('x')\n",
    "start_expr = 3 * x_sym ** 3 + 1.7 * x_sym ** 2 - 15.42 * x_sym + 6.89\n",
    "start_expr"
   ]
  },
  {
   "cell_type": "markdown",
   "id": "c463ec0c-8ed4-41d5-affe-5f14eec3135f",
   "metadata": {
    "jp-MarkdownHeadingCollapsed": true
   },
   "source": [
    "### Определение x_0 (знаки производных)"
   ]
  },
  {
   "cell_type": "code",
   "execution_count": 103,
   "id": "4d2fcbac-c155-400f-a2b0-29b8a4f89330",
   "metadata": {},
   "outputs": [],
   "source": [
    "s_e_diff_1 = sp.diff(start_expr, x_sym)\n",
    "s_e_diff_2 = sp.diff(s_e_diff_1, x_sym)"
   ]
  },
  {
   "cell_type": "code",
   "execution_count": 104,
   "id": "4f470b73-b1ae-4eb3-854f-b9d9c8bf5d1e",
   "metadata": {},
   "outputs": [
    {
     "data": {
      "text/latex": [
       "$\\displaystyle \\text{True}$"
      ],
      "text/plain": [
       "True"
      ]
     },
     "execution_count": 104,
     "metadata": {},
     "output_type": "execute_result"
    }
   ],
   "source": [
    "start_expr.subs(x_sym, a) * s_e_diff_2.subs(x_sym, a) > 0"
   ]
  },
  {
   "cell_type": "code",
   "execution_count": 105,
   "id": "ddd10382-7275-4644-9f5e-d23d3aecb9b9",
   "metadata": {},
   "outputs": [
    {
     "data": {
      "text/latex": [
       "$\\displaystyle \\text{False}$"
      ],
      "text/plain": [
       "False"
      ]
     },
     "execution_count": 105,
     "metadata": {},
     "output_type": "execute_result"
    }
   ],
   "source": [
    "start_expr.subs(x_sym, b) * s_e_diff_2.subs(x_sym, b) > 0"
   ]
  },
  {
   "cell_type": "markdown",
   "id": "ed396d05-dd3b-4a78-8a2f-35e57fa19f0f",
   "metadata": {
    "jp-MarkdownHeadingCollapsed": true
   },
   "source": [
    "### Расчет и заполнение таблицы"
   ]
  },
  {
   "cell_type": "code",
   "execution_count": 106,
   "id": "193afa0b-bf11-4052-8700-8e22dd9a5895",
   "metadata": {},
   "outputs": [],
   "source": [
    "# Заполним таблицу итераций\n",
    "\n",
    "x_0 = a\n",
    "x_1 = round(x_0 - start_expr.subs(x_sym, x_0) / s_e_diff_1.subs(x_sym, x_0), 3)\n",
    "x_2 = round(x_1 - start_expr.subs(x_sym, x_1) / s_e_diff_1.subs(x_sym, x_1), 3)\n",
    "\n",
    "table_3_data = {\n",
    "    'x_k': [x_0, x_1],\n",
    "    'f(x_k)': [round(start_expr.subs(x_sym, x_0), 3),\n",
    "                 round(start_expr.subs(x_sym, x_1), 3),\n",
    "                ],\n",
    "    'x_k+1': [x_1, x_2],\n",
    "    'f\\'(x_k)': [round(s_e_diff_1.subs(x_sym, x_0), 3),\n",
    "                round(s_e_diff_1.subs(x_sym, x_1), 3),\n",
    "                ],\n",
    "    '| x_k+1 - x_k |': [round(abs(x_1 - x_0), 3),\n",
    "                        round(abs(x_2 - x_1), 3),\n",
    "                       ]\n",
    "} "
   ]
  },
  {
   "cell_type": "code",
   "execution_count": 107,
   "id": "313631e6-fa0f-4991-a7bb-a2075a166953",
   "metadata": {},
   "outputs": [
    {
     "data": {
      "text/html": [
       "<div>\n",
       "<style scoped>\n",
       "    .dataframe tbody tr th:only-of-type {\n",
       "        vertical-align: middle;\n",
       "    }\n",
       "\n",
       "    .dataframe tbody tr th {\n",
       "        vertical-align: top;\n",
       "    }\n",
       "\n",
       "    .dataframe thead th {\n",
       "        text-align: right;\n",
       "    }\n",
       "</style>\n",
       "<table border=\"1\" class=\"dataframe\">\n",
       "  <thead>\n",
       "    <tr style=\"text-align: right;\">\n",
       "      <th></th>\n",
       "      <th>x_k</th>\n",
       "      <th>f(x_k)</th>\n",
       "      <th>x_k+1</th>\n",
       "      <th>f'(x_k)</th>\n",
       "      <th>| x_k+1 - x_k |</th>\n",
       "    </tr>\n",
       "  </thead>\n",
       "  <tbody>\n",
       "    <tr>\n",
       "      <th>1</th>\n",
       "      <td>0.4</td>\n",
       "      <td>1.186</td>\n",
       "      <td>0.494</td>\n",
       "      <td>-12.620</td>\n",
       "      <td>0.094</td>\n",
       "    </tr>\n",
       "    <tr>\n",
       "      <th>2</th>\n",
       "      <td>0.494</td>\n",
       "      <td>0.049</td>\n",
       "      <td>0.498</td>\n",
       "      <td>-11.544</td>\n",
       "      <td>0.004</td>\n",
       "    </tr>\n",
       "  </tbody>\n",
       "</table>\n",
       "</div>"
      ],
      "text/plain": [
       "     x_k f(x_k)  x_k+1  f'(x_k) | x_k+1 - x_k |\n",
       "1    0.4  1.186  0.494  -12.620           0.094\n",
       "2  0.494  0.049  0.498  -11.544           0.004"
      ]
     },
     "execution_count": 107,
     "metadata": {},
     "output_type": "execute_result"
    }
   ],
   "source": [
    "df_3 = pd.DataFrame(table_3_data)\n",
    "df_3.index += 1\n",
    "df_3"
   ]
  },
  {
   "cell_type": "markdown",
   "id": "e5410051-918c-4005-8e5a-c50e009fc5ed",
   "metadata": {
    "jp-MarkdownHeadingCollapsed": true
   },
   "source": [
    "## Ручное вычисление крайнего левого корня методом хорд (2)"
   ]
  },
  {
   "cell_type": "code",
   "execution_count": 108,
   "id": "83239071-868c-46a1-bf51-de60198cbe99",
   "metadata": {},
   "outputs": [
    {
     "data": {
      "text/plain": [
       "(-3, -2)"
      ]
     },
     "execution_count": 108,
     "metadata": {},
     "output_type": "execute_result"
    }
   ],
   "source": [
    "a, b = manual_intervals[0]\n",
    "a, b"
   ]
  },
  {
   "cell_type": "code",
   "execution_count": 109,
   "id": "1ecb790b-81a1-4096-98d4-80046813b804",
   "metadata": {},
   "outputs": [
    {
     "data": {
      "text/latex": [
       "$\\displaystyle 3 x^{3} + 1.7 x^{2} - 15.42 x + 6.89$"
      ],
      "text/plain": [
       "3*x**3 + 1.7*x**2 - 15.42*x + 6.89"
      ]
     },
     "execution_count": 109,
     "metadata": {},
     "output_type": "execute_result"
    }
   ],
   "source": [
    "x_sym = sp.symbols('x')\n",
    "start_expr = 3 * x_sym ** 3 + 1.7 * x_sym ** 2 - 15.42 * x_sym + 6.89\n",
    "start_expr"
   ]
  },
  {
   "cell_type": "markdown",
   "id": "d7cda10b-11ad-4746-be9a-066814d5aa17",
   "metadata": {
    "jp-MarkdownHeadingCollapsed": true
   },
   "source": [
    "### Определение x_0 (знаки производных)"
   ]
  },
  {
   "cell_type": "code",
   "execution_count": 110,
   "id": "c3beee0a-8088-4728-9e04-3d84e4410ffb",
   "metadata": {},
   "outputs": [],
   "source": [
    "s_e_diff_1 = sp.diff(start_expr, x_sym)\n",
    "s_e_diff_2 = sp.diff(s_e_diff_1, x_sym)"
   ]
  },
  {
   "cell_type": "code",
   "execution_count": 111,
   "id": "5b4fc91e-1721-4739-bad0-0735aa2a17e4",
   "metadata": {},
   "outputs": [
    {
     "data": {
      "text/latex": [
       "$\\displaystyle 9 x^{2} + 3.4 x - 15.42 > 0$"
      ],
      "text/plain": [
       "9*x**2 + 3.4*x - 15.42 > 0"
      ]
     },
     "execution_count": 111,
     "metadata": {},
     "output_type": "execute_result"
    }
   ],
   "source": [
    "s_e_diff_1 > 0"
   ]
  },
  {
   "cell_type": "code",
   "execution_count": 112,
   "id": "ea73498b-4e7e-4fbd-b167-e30ec53b7ea6",
   "metadata": {},
   "outputs": [
    {
     "data": {
      "text/latex": [
       "$\\displaystyle 18 x + 3.4 < 0$"
      ],
      "text/plain": [
       "18*x + 3.4 < 0"
      ]
     },
     "execution_count": 112,
     "metadata": {},
     "output_type": "execute_result"
    }
   ],
   "source": [
    "s_e_diff_2 < 0"
   ]
  },
  {
   "cell_type": "markdown",
   "id": "57a0e552-9c0b-4fa5-85b6-8679f68b24f5",
   "metadata": {},
   "source": [
    "f'(x) * f''(x) < 0 -> x_0 = b"
   ]
  },
  {
   "cell_type": "markdown",
   "id": "cf3f1385-30ca-4944-8620-54dd93943077",
   "metadata": {
    "jp-MarkdownHeadingCollapsed": true
   },
   "source": [
    "### Расчет и заполнение таблицы"
   ]
  },
  {
   "cell_type": "code",
   "execution_count": 119,
   "id": "3e5553de-e023-495c-abce-16ae0f754cc1",
   "metadata": {},
   "outputs": [],
   "source": [
    "# Заполним таблицу итераций\n",
    "\n",
    "x_0 = b\n",
    "f_x_0 = start_expr.subs(x_sym, x_0)\n",
    "x_1 = x_0 - f_x_0 * (a - x_0) / (start_expr.subs(x_sym, a) - f_x_0)\n",
    "f_x_1 = start_expr.subs(x_sym, x_1)\n",
    "x_2 = x_1 - f_x_1 * (a - x_1) / (start_expr.subs(x_sym, a) - f_x_1)\n",
    "f_x_2 = start_expr.subs(x_sym, x_2)\n",
    "x_3 = x_2 - f_x_2 * (a - x_2) / (start_expr.subs(x_sym, a) - f_x_2)\n",
    "f_x_3 = start_expr.subs(x_sym, x_3)\n",
    "x_4 = x_3 - f_x_3 * (a - x_3) / (start_expr.subs(x_sym, a) - f_x_3)\n",
    "\n",
    "table_2_data = {\n",
    "    'a': [a, a, a, a],\n",
    "    'b': [b, b, b, b],\n",
    "    'x': [round(x_0, 3), round(x_1, 3), round(x_2, 3), round(x_4, 3)],\n",
    "    'f(a)': [round(start_expr.subs(x_sym, a), 3),\n",
    "             round(start_expr.subs(x_sym, a), 3),\n",
    "             round(start_expr.subs(x_sym, a), 3),\n",
    "             round(start_expr.subs(x_sym, a), 3),\n",
    "            ],\n",
    "    'f(b)': [round(start_expr.subs(x_sym, b), 3),\n",
    "             round(start_expr.subs(x_sym, b), 3),\n",
    "             round(start_expr.subs(x_sym, b), 3),\n",
    "             round(start_expr.subs(x_sym, b), 3),\n",
    "        ],\n",
    "    'f(x)': [round(start_expr.subs(x_sym, x_0), 3), \n",
    "             round(start_expr.subs(x_sym, x_1), 3),\n",
    "             round(start_expr.subs(x_sym, x_2), 3),\n",
    "             round(start_expr.subs(x_sym, x_3), 3),\n",
    "            ],\n",
    "    '| x_k+1 - x_k |': [round(abs(x_1 - x_0), 3),\n",
    "                        round(abs(x_2 - x_1), 3),\n",
    "                        round(abs(x_3 - x_2), 3),\n",
    "                        round(abs(x_4 - x_3), 3),\n",
    "                       ]\n",
    "} "
   ]
  },
  {
   "cell_type": "code",
   "execution_count": 120,
   "id": "42cabfe9-ea3f-4ac0-a1ca-e44847e6f595",
   "metadata": {},
   "outputs": [
    {
     "data": {
      "text/html": [
       "<div>\n",
       "<style scoped>\n",
       "    .dataframe tbody tr th:only-of-type {\n",
       "        vertical-align: middle;\n",
       "    }\n",
       "\n",
       "    .dataframe tbody tr th {\n",
       "        vertical-align: top;\n",
       "    }\n",
       "\n",
       "    .dataframe thead th {\n",
       "        text-align: right;\n",
       "    }\n",
       "</style>\n",
       "<table border=\"1\" class=\"dataframe\">\n",
       "  <thead>\n",
       "    <tr style=\"text-align: right;\">\n",
       "      <th></th>\n",
       "      <th>a</th>\n",
       "      <th>b</th>\n",
       "      <th>x</th>\n",
       "      <th>f(a)</th>\n",
       "      <th>f(b)</th>\n",
       "      <th>f(x)</th>\n",
       "      <th>| x_k+1 - x_k |</th>\n",
       "    </tr>\n",
       "  </thead>\n",
       "  <tbody>\n",
       "    <tr>\n",
       "      <th>1</th>\n",
       "      <td>-3</td>\n",
       "      <td>-2</td>\n",
       "      <td>-2</td>\n",
       "      <td>-12.550</td>\n",
       "      <td>20.530</td>\n",
       "      <td>20.530</td>\n",
       "      <td>0.621</td>\n",
       "    </tr>\n",
       "    <tr>\n",
       "      <th>2</th>\n",
       "      <td>-3</td>\n",
       "      <td>-2</td>\n",
       "      <td>-2.621</td>\n",
       "      <td>-12.550</td>\n",
       "      <td>20.530</td>\n",
       "      <td>4.983</td>\n",
       "      <td>0.108</td>\n",
       "    </tr>\n",
       "    <tr>\n",
       "      <th>3</th>\n",
       "      <td>-3</td>\n",
       "      <td>-2</td>\n",
       "      <td>-2.728</td>\n",
       "      <td>-12.550</td>\n",
       "      <td>20.530</td>\n",
       "      <td>0.684</td>\n",
       "      <td>0.014</td>\n",
       "    </tr>\n",
       "    <tr>\n",
       "      <th>4</th>\n",
       "      <td>-3</td>\n",
       "      <td>-2</td>\n",
       "      <td>-2.744</td>\n",
       "      <td>-12.550</td>\n",
       "      <td>20.530</td>\n",
       "      <td>0.086</td>\n",
       "      <td>0.002</td>\n",
       "    </tr>\n",
       "  </tbody>\n",
       "</table>\n",
       "</div>"
      ],
      "text/plain": [
       "   a  b       x     f(a)    f(b)    f(x) | x_k+1 - x_k |\n",
       "1 -3 -2      -2  -12.550  20.530  20.530           0.621\n",
       "2 -3 -2  -2.621  -12.550  20.530   4.983           0.108\n",
       "3 -3 -2  -2.728  -12.550  20.530   0.684           0.014\n",
       "4 -3 -2  -2.744  -12.550  20.530   0.086           0.002"
      ]
     },
     "execution_count": 120,
     "metadata": {},
     "output_type": "execute_result"
    }
   ],
   "source": [
    "df_2 = pd.DataFrame(table_2_data)\n",
    "df_2.index += 1\n",
    "df_2"
   ]
  },
  {
   "cell_type": "markdown",
   "id": "8c665be4-f9b0-4cbf-90de-6d4b7014804e",
   "metadata": {
    "jp-MarkdownHeadingCollapsed": true
   },
   "source": [
    "## Ручное вычисление решения системы нелинейных уравнений методом Ньютона "
   ]
  },
  {
   "cell_type": "code",
   "execution_count": null,
   "id": "2d5cd774-3ec3-44bd-b439-aebbeea9c989",
   "metadata": {},
   "outputs": [],
   "source": [
    "https://www.desmos.com/calculator/gs9tikupbz"
   ]
  },
  {
   "cell_type": "code",
   "execution_count": 4,
   "id": "38b12068-c3c2-4b84-9b68-5fb82acfb6cd",
   "metadata": {},
   "outputs": [],
   "source": [
    "x_sym = sp.symbols('x')\n",
    "y_sym = sp.symbols('y')\n",
    "Y = [x_sym, y_sym]\n",
    "\n",
    "dx_sym = sp.symbols('dx')\n",
    "dy_sym = sp.symbols('dy')\n",
    "D = sp.Matrix([dx_sym, dy_sym])\n",
    "\n",
    "expr_1 = sp.tan(x_sym * y_sym) - x_sym ** 2\n",
    "expr_2 = 0.8 * x_sym ** 2 + 2 * y_sym ** 2 - 1\n",
    "\n",
    "X = sp.Matrix([expr_1, expr_2])"
   ]
  },
  {
   "cell_type": "code",
   "execution_count": 5,
   "id": "3363e0d6-42e1-40f9-ba51-aced2c5fc851",
   "metadata": {},
   "outputs": [
    {
     "data": {
      "text/latex": [
       "$\\displaystyle \\left[\\begin{matrix}- 2 x + y \\left(\\tan^{2}{\\left(x y \\right)} + 1\\right) & x \\left(\\tan^{2}{\\left(x y \\right)} + 1\\right)\\\\1.6 x & 4 y\\end{matrix}\\right]$"
      ],
      "text/plain": [
       "Matrix([\n",
       "[-2*x + y*(tan(x*y)**2 + 1), x*(tan(x*y)**2 + 1)],\n",
       "[                     1.6*x,                 4*y]])"
      ]
     },
     "execution_count": 5,
     "metadata": {},
     "output_type": "execute_result"
    }
   ],
   "source": [
    "X_jacobi = X.jacobian(Y)\n",
    "X_jacobi"
   ]
  },
  {
   "cell_type": "code",
   "execution_count": 6,
   "id": "46eec757-f6c7-47e9-a20a-3ac105b47080",
   "metadata": {},
   "outputs": [
    {
     "data": {
      "text/latex": [
       "$\\displaystyle \\left[\\begin{matrix}dx \\left(- 2 x + y \\left(\\tan^{2}{\\left(x y \\right)} + 1\\right)\\right) + dy x \\left(\\tan^{2}{\\left(x y \\right)} + 1\\right)\\\\1.6 dx x + 4 dy y\\end{matrix}\\right]$"
      ],
      "text/plain": [
       "Matrix([\n",
       "[dx*(-2*x + y*(tan(x*y)**2 + 1)) + dy*x*(tan(x*y)**2 + 1)],\n",
       "[                                       1.6*dx*x + 4*dy*y]])"
      ]
     },
     "execution_count": 6,
     "metadata": {},
     "output_type": "execute_result"
    }
   ],
   "source": [
    "X_jacobi * D"
   ]
  },
  {
   "cell_type": "markdown",
   "id": "09b885ad-497d-4b6d-995d-2440092a9903",
   "metadata": {
    "jp-MarkdownHeadingCollapsed": true
   },
   "source": [
    "### Приближение для первого корня (0, 0.707)"
   ]
  },
  {
   "cell_type": "code",
   "execution_count": 195,
   "id": "d84be417-0b1f-475c-86cc-33de2c2e279e",
   "metadata": {},
   "outputs": [
    {
     "data": {
      "text/plain": [
       "(0, -1/4)"
      ]
     },
     "execution_count": 195,
     "metadata": {},
     "output_type": "execute_result"
    }
   ],
   "source": [
    "\n",
    "x_0, y_0 = 0, 1\n",
    "\n",
    "iter_1_1 = (X_jacobi * D)[0].subs(x_sym, x_0).subs(y_sym, y_0) + expr_1.subs(x_sym, x_0).subs(y_sym, y_0)\n",
    "iter_1_2 = (X_jacobi * D)[1].subs(x_sym, x_0).subs(y_sym, y_0) + expr_2.subs(x_sym, x_0).subs(y_sym, y_0)\n",
    "\n",
    "res = sp.solve([iter_1_1, iter_1_2], (dx_sym, dy_sym))\n",
    "dx_1 = res[dx_sym]\n",
    "dy_1 = res[dy_sym]\n",
    "dx_1, dy_1"
   ]
  },
  {
   "cell_type": "code",
   "execution_count": 220,
   "id": "1f290d6f-4c56-40af-857a-135c7c57524e",
   "metadata": {},
   "outputs": [
    {
     "data": {
      "text/plain": [
       "(0, 3/4)"
      ]
     },
     "execution_count": 220,
     "metadata": {},
     "output_type": "execute_result"
    }
   ],
   "source": [
    "x_1 = x_0 + dx_1\n",
    "y_1 = y_0 + dy_1\n",
    "(x_1, y_1)"
   ]
  },
  {
   "cell_type": "code",
   "execution_count": 221,
   "id": "d636f37e-3630-412e-9da7-f356261436c4",
   "metadata": {},
   "outputs": [
    {
     "data": {
      "text/latex": [
       "$\\displaystyle \\text{False}$"
      ],
      "text/plain": [
       "False"
      ]
     },
     "execution_count": 221,
     "metadata": {},
     "output_type": "execute_result"
    }
   ],
   "source": [
    "abs(x_1 - x_0) <= 10 ** -2  # true\n",
    "abs(y_1 - y_0) <= 10 ** -2  # false"
   ]
  },
  {
   "cell_type": "code",
   "execution_count": 222,
   "id": "5c19ebeb-de1d-43b1-8f57-eeddbe88d088",
   "metadata": {},
   "outputs": [
    {
     "data": {
      "text/plain": [
       "(0, -1/24)"
      ]
     },
     "execution_count": 222,
     "metadata": {},
     "output_type": "execute_result"
    }
   ],
   "source": [
    "iter_2_1 = (X_jacobi * D)[0].subs(x_sym, x_1).subs(y_sym, y_1) + expr_1.subs(x_sym, x_1).subs(y_sym, y_1)\n",
    "iter_2_2 = (X_jacobi * D)[1].subs(x_sym, x_1).subs(y_sym, y_1) + expr_2.subs(x_sym, x_1).subs(y_sym, y_1)\n",
    "\n",
    "res = sp.solve([iter_2_1, iter_2_2], (dx_sym, dy_sym))\n",
    "dx_2 = res[dx_sym]\n",
    "dy_2 = res[dy_sym]\n",
    "dx_2, dy_2"
   ]
  },
  {
   "cell_type": "code",
   "execution_count": 223,
   "id": "f2708b36-17df-4aaf-9376-4c5c837686bf",
   "metadata": {},
   "outputs": [
    {
     "data": {
      "text/plain": [
       "(0, 17/24)"
      ]
     },
     "execution_count": 223,
     "metadata": {},
     "output_type": "execute_result"
    }
   ],
   "source": [
    "x_2 = x_1 + dx_2\n",
    "y_2 = y_1 + dy_2\n",
    "(x_2, y_2)"
   ]
  },
  {
   "cell_type": "code",
   "execution_count": 224,
   "id": "f4b2f144-557f-4a03-9f37-c4369b514ea3",
   "metadata": {},
   "outputs": [
    {
     "data": {
      "text/latex": [
       "$\\displaystyle \\text{False}$"
      ],
      "text/plain": [
       "False"
      ]
     },
     "execution_count": 224,
     "metadata": {},
     "output_type": "execute_result"
    }
   ],
   "source": [
    "abs(x_2 - x_1) <= 10 ** -2 # true\n",
    "abs(y_2 - y_1) <= 10 ** -2 # false"
   ]
  },
  {
   "cell_type": "code",
   "execution_count": 225,
   "id": "c3cf5e40-5e6f-458d-81ef-d538a5dcde56",
   "metadata": {},
   "outputs": [
    {
     "data": {
      "text/plain": [
       "(0, -1/816)"
      ]
     },
     "execution_count": 225,
     "metadata": {},
     "output_type": "execute_result"
    }
   ],
   "source": [
    "iter_3_1 = (X_jacobi * D)[0].subs(x_sym, x_2).subs(y_sym, y_2) + expr_1.subs(x_sym, x_2).subs(y_sym, y_2)\n",
    "iter_3_2 = (X_jacobi * D)[1].subs(x_sym, x_2).subs(y_sym, y_2) + expr_2.subs(x_sym, x_2).subs(y_sym, y_2)\n",
    "\n",
    "res = sp.solve([iter_3_1, iter_3_2], (dx_sym, dy_sym))\n",
    "dx_3 = res[dx_sym]\n",
    "dy_3 = res[dy_sym]\n",
    "dx_3, dy_3"
   ]
  },
  {
   "cell_type": "code",
   "execution_count": 227,
   "id": "46859200-82bc-4150-9471-09ef3517045c",
   "metadata": {},
   "outputs": [
    {
     "data": {
      "text/plain": [
       "(0, 0.707)"
      ]
     },
     "execution_count": 227,
     "metadata": {},
     "output_type": "execute_result"
    }
   ],
   "source": [
    "x_3 = x_2 + dx_3\n",
    "y_3 = y_2 + dy_3\n",
    "(x_3, round(float(y_3), 3))"
   ]
  },
  {
   "cell_type": "code",
   "execution_count": 217,
   "id": "ef5e72d6-4da7-44de-b1a9-756f3227110c",
   "metadata": {},
   "outputs": [
    {
     "data": {
      "text/latex": [
       "$\\displaystyle \\text{True}$"
      ],
      "text/plain": [
       "True"
      ]
     },
     "execution_count": 217,
     "metadata": {},
     "output_type": "execute_result"
    }
   ],
   "source": [
    "abs(x_3 - x_2) <= 10 ** -2 # true\n",
    "abs(y_3 - y_2) <= 10 ** -2 # true"
   ]
  },
  {
   "cell_type": "code",
   "execution_count": 216,
   "id": "34295b5a-1d84-4f1b-a7dc-a198719824c1",
   "metadata": {},
   "outputs": [
    {
     "data": {
      "text/plain": [
       "(0, 0.707)"
      ]
     },
     "execution_count": 216,
     "metadata": {},
     "output_type": "execute_result"
    }
   ],
   "source": [
    "# Значение первого корня:\n",
    "x_3, round(float(y_3), 3)"
   ]
  },
  {
   "cell_type": "markdown",
   "id": "07f5e136-4241-4e12-af66-c907f8d7a43c",
   "metadata": {
    "jp-MarkdownHeadingCollapsed": true
   },
   "source": [
    "### Приближение для второго корня (0.617, 0.59)"
   ]
  },
  {
   "cell_type": "code",
   "execution_count": 39,
   "id": "6141d80a-3184-4180-918b-e794509bb257",
   "metadata": {},
   "outputs": [
    {
     "data": {
      "text/plain": [
       "(-0.152610340286473, -0.130622530552078)"
      ]
     },
     "execution_count": 39,
     "metadata": {},
     "output_type": "execute_result"
    }
   ],
   "source": [
    "x_0, y_0 = 0.75, 0.75\n",
    "\n",
    "iter_1_1 = (X_jacobi * D)[0].subs(x_sym, x_0).subs(y_sym, y_0) + expr_1.subs(x_sym, x_0).subs(y_sym, y_0)\n",
    "iter_1_2 = (X_jacobi * D)[1].subs(x_sym, x_0).subs(y_sym, y_0) + expr_2.subs(x_sym, x_0).subs(y_sym, y_0)\n",
    "\n",
    "res = sp.solve([iter_1_1, iter_1_2], (dx_sym, dy_sym))\n",
    "dx_1 = res[dx_sym]\n",
    "dy_1 = res[dy_sym]\n",
    "dx_1, dy_1"
   ]
  },
  {
   "cell_type": "code",
   "execution_count": 40,
   "id": "142262d9-ff03-4979-8684-ae605f18c8b5",
   "metadata": {},
   "outputs": [
    {
     "data": {
      "text/plain": [
       "(0.597389659713527, 0.619377469447922)"
      ]
     },
     "execution_count": 40,
     "metadata": {},
     "output_type": "execute_result"
    }
   ],
   "source": [
    "x_1 = x_0 + dx_1\n",
    "y_1 = y_0 + dy_1\n",
    "(x_1, y_1)"
   ]
  },
  {
   "cell_type": "code",
   "execution_count": 41,
   "id": "ebf20b04-dae2-4ee2-8d06-3b0cda2e9f19",
   "metadata": {},
   "outputs": [
    {
     "data": {
      "text/latex": [
       "$\\displaystyle \\text{False}$"
      ],
      "text/plain": [
       "False"
      ]
     },
     "execution_count": 41,
     "metadata": {},
     "output_type": "execute_result"
    }
   ],
   "source": [
    "abs(x_1 - x_0) <= 10 ** -2  # true\n",
    "abs(y_1 - y_0) <= 10 ** -2  # false"
   ]
  },
  {
   "cell_type": "code",
   "execution_count": 42,
   "id": "7c0326d7-303c-4872-94d6-4d57af091655",
   "metadata": {},
   "outputs": [
    {
     "data": {
      "text/plain": [
       "(0.0218971868441185, -0.0297420685188974)"
      ]
     },
     "execution_count": 42,
     "metadata": {},
     "output_type": "execute_result"
    }
   ],
   "source": [
    "iter_2_1 = (X_jacobi * D)[0].subs(x_sym, x_1).subs(y_sym, y_1) + expr_1.subs(x_sym, x_1).subs(y_sym, y_1)\n",
    "iter_2_2 = (X_jacobi * D)[1].subs(x_sym, x_1).subs(y_sym, y_1) + expr_2.subs(x_sym, x_1).subs(y_sym, y_1)\n",
    "\n",
    "res = sp.solve([iter_2_1, iter_2_2], (dx_sym, dy_sym))\n",
    "dx_2 = res[dx_sym]\n",
    "dy_2 = res[dy_sym]\n",
    "dx_2, dy_2"
   ]
  },
  {
   "cell_type": "code",
   "execution_count": 43,
   "id": "ed32b2d5-4b5e-4ae7-b08e-3aa465554a04",
   "metadata": {},
   "outputs": [
    {
     "data": {
      "text/plain": [
       "(0.619286846557646, 0.589635400929025)"
      ]
     },
     "execution_count": 43,
     "metadata": {},
     "output_type": "execute_result"
    }
   ],
   "source": [
    "x_2 = x_1 + dx_2\n",
    "y_2 = y_1 + dy_2\n",
    "(x_2, y_2)"
   ]
  },
  {
   "cell_type": "code",
   "execution_count": 44,
   "id": "ea07df14-d6ed-4166-b480-ebc365b45d9d",
   "metadata": {},
   "outputs": [
    {
     "data": {
      "text/latex": [
       "$\\displaystyle \\text{False}$"
      ],
      "text/plain": [
       "False"
      ]
     },
     "execution_count": 44,
     "metadata": {},
     "output_type": "execute_result"
    }
   ],
   "source": [
    "abs(x_2 - x_1) <= 10 ** -2 # false\n",
    "abs(y_2 - y_1) <= 10 ** -2 # false"
   ]
  },
  {
   "cell_type": "code",
   "execution_count": 45,
   "id": "aeac3c1f-d0ca-482a-8726-3f5cbc8dc3e0",
   "metadata": {},
   "outputs": [
    {
     "data": {
      "text/plain": [
       "(-0.00216752161799323, -2.14645722708010e-6)"
      ]
     },
     "execution_count": 45,
     "metadata": {},
     "output_type": "execute_result"
    }
   ],
   "source": [
    "iter_3_1 = (X_jacobi * D)[0].subs(x_sym, x_2).subs(y_sym, y_2) + expr_1.subs(x_sym, x_2).subs(y_sym, y_2)\n",
    "iter_3_2 = (X_jacobi * D)[1].subs(x_sym, x_2).subs(y_sym, y_2) + expr_2.subs(x_sym, x_2).subs(y_sym, y_2)\n",
    "\n",
    "res = sp.solve([iter_3_1, iter_3_2], (dx_sym, dy_sym))\n",
    "dx_3 = res[dx_sym]\n",
    "dy_3 = res[dy_sym]\n",
    "dx_3, dy_3"
   ]
  },
  {
   "cell_type": "code",
   "execution_count": 46,
   "id": "93bd1e5b-49e8-4fbd-94f2-aaf789b3fe15",
   "metadata": {},
   "outputs": [
    {
     "data": {
      "text/plain": [
       "(0.617119324939653, 0.59)"
      ]
     },
     "execution_count": 46,
     "metadata": {},
     "output_type": "execute_result"
    }
   ],
   "source": [
    "x_3 = x_2 + dx_3\n",
    "y_3 = y_2 + dy_3\n",
    "(x_3, round(float(y_3), 3))"
   ]
  },
  {
   "cell_type": "code",
   "execution_count": 47,
   "id": "22adc39a-2897-4be2-a057-b449152d6bf4",
   "metadata": {},
   "outputs": [
    {
     "data": {
      "text/latex": [
       "$\\displaystyle \\text{True}$"
      ],
      "text/plain": [
       "True"
      ]
     },
     "execution_count": 47,
     "metadata": {},
     "output_type": "execute_result"
    }
   ],
   "source": [
    "abs(x_3 - x_2) <= 10 ** -2 # true\n",
    "abs(y_3 - y_2) <= 10 ** -2 # true"
   ]
  },
  {
   "cell_type": "code",
   "execution_count": 48,
   "id": "49f8bbb1-924f-4eef-96b7-dad43fa50b32",
   "metadata": {},
   "outputs": [
    {
     "data": {
      "text/plain": [
       "(0.617, 0.59)"
      ]
     },
     "execution_count": 48,
     "metadata": {},
     "output_type": "execute_result"
    }
   ],
   "source": [
    "# Значение второго корня:\n",
    "round(float(x_3), 3), round(float(y_3), 3)"
   ]
  },
  {
   "cell_type": "markdown",
   "id": "b337100a-2054-45a9-812b-f694bd429b45",
   "metadata": {
    "jp-MarkdownHeadingCollapsed": true
   },
   "source": [
    "### Приближение для третьего корня (0, -0.707) "
   ]
  },
  {
   "cell_type": "code",
   "execution_count": 49,
   "id": "9fb79c77-68fb-476d-992b-7d0836a044aa",
   "metadata": {},
   "outputs": [
    {
     "data": {
      "text/plain": [
       "(0, 1/4)"
      ]
     },
     "execution_count": 49,
     "metadata": {},
     "output_type": "execute_result"
    }
   ],
   "source": [
    "x_0, y_0 = 0, -1\n",
    "\n",
    "iter_1_1 = (X_jacobi * D)[0].subs(x_sym, x_0).subs(y_sym, y_0) + expr_1.subs(x_sym, x_0).subs(y_sym, y_0)\n",
    "iter_1_2 = (X_jacobi * D)[1].subs(x_sym, x_0).subs(y_sym, y_0) + expr_2.subs(x_sym, x_0).subs(y_sym, y_0)\n",
    "\n",
    "res = sp.solve([iter_1_1, iter_1_2], (dx_sym, dy_sym))\n",
    "dx_1 = res[dx_sym]\n",
    "dy_1 = res[dy_sym]\n",
    "dx_1, dy_1"
   ]
  },
  {
   "cell_type": "code",
   "execution_count": 50,
   "id": "9940c25d-506c-4b04-926d-1516deba1604",
   "metadata": {},
   "outputs": [
    {
     "data": {
      "text/plain": [
       "(0, -3/4)"
      ]
     },
     "execution_count": 50,
     "metadata": {},
     "output_type": "execute_result"
    }
   ],
   "source": [
    "x_1 = x_0 + dx_1\n",
    "y_1 = y_0 + dy_1\n",
    "(x_1, y_1)"
   ]
  },
  {
   "cell_type": "code",
   "execution_count": 51,
   "id": "4434d1c9-4270-490e-aa6a-0da280aa00b7",
   "metadata": {},
   "outputs": [
    {
     "data": {
      "text/latex": [
       "$\\displaystyle \\text{False}$"
      ],
      "text/plain": [
       "False"
      ]
     },
     "execution_count": 51,
     "metadata": {},
     "output_type": "execute_result"
    }
   ],
   "source": [
    "abs(x_1 - x_0) <= 10 ** -2  # true\n",
    "abs(y_1 - y_0) <= 10 ** -2  # false"
   ]
  },
  {
   "cell_type": "code",
   "execution_count": 52,
   "id": "8b053e5b-3680-4788-88b4-cac3e485a3d1",
   "metadata": {},
   "outputs": [
    {
     "data": {
      "text/plain": [
       "(0, 1/24)"
      ]
     },
     "execution_count": 52,
     "metadata": {},
     "output_type": "execute_result"
    }
   ],
   "source": [
    "iter_2_1 = (X_jacobi * D)[0].subs(x_sym, x_1).subs(y_sym, y_1) + expr_1.subs(x_sym, x_1).subs(y_sym, y_1)\n",
    "iter_2_2 = (X_jacobi * D)[1].subs(x_sym, x_1).subs(y_sym, y_1) + expr_2.subs(x_sym, x_1).subs(y_sym, y_1)\n",
    "\n",
    "res = sp.solve([iter_2_1, iter_2_2], (dx_sym, dy_sym))\n",
    "dx_2 = res[dx_sym]\n",
    "dy_2 = res[dy_sym]\n",
    "dx_2, dy_2"
   ]
  },
  {
   "cell_type": "code",
   "execution_count": 53,
   "id": "9e4e002c-c679-436c-8dd3-5a76c4fd125b",
   "metadata": {},
   "outputs": [
    {
     "data": {
      "text/plain": [
       "(0, -17/24)"
      ]
     },
     "execution_count": 53,
     "metadata": {},
     "output_type": "execute_result"
    }
   ],
   "source": [
    "x_2 = x_1 + dx_2\n",
    "y_2 = y_1 + dy_2\n",
    "(x_2, y_2)"
   ]
  },
  {
   "cell_type": "code",
   "execution_count": 54,
   "id": "f5dbee1e-1f33-4395-8897-56c83eb9fd7d",
   "metadata": {},
   "outputs": [
    {
     "data": {
      "text/latex": [
       "$\\displaystyle \\text{False}$"
      ],
      "text/plain": [
       "False"
      ]
     },
     "execution_count": 54,
     "metadata": {},
     "output_type": "execute_result"
    }
   ],
   "source": [
    "abs(x_2 - x_1) <= 10 ** -2 # false\n",
    "abs(y_2 - y_1) <= 10 ** -2 # false"
   ]
  },
  {
   "cell_type": "code",
   "execution_count": 55,
   "id": "df58ec9c-ca5c-4725-9082-0c58ebb2686a",
   "metadata": {},
   "outputs": [
    {
     "data": {
      "text/plain": [
       "(0, 1/816)"
      ]
     },
     "execution_count": 55,
     "metadata": {},
     "output_type": "execute_result"
    }
   ],
   "source": [
    "iter_3_1 = (X_jacobi * D)[0].subs(x_sym, x_2).subs(y_sym, y_2) + expr_1.subs(x_sym, x_2).subs(y_sym, y_2)\n",
    "iter_3_2 = (X_jacobi * D)[1].subs(x_sym, x_2).subs(y_sym, y_2) + expr_2.subs(x_sym, x_2).subs(y_sym, y_2)\n",
    "\n",
    "res = sp.solve([iter_3_1, iter_3_2], (dx_sym, dy_sym))\n",
    "dx_3 = res[dx_sym]\n",
    "dy_3 = res[dy_sym]\n",
    "dx_3, dy_3"
   ]
  },
  {
   "cell_type": "code",
   "execution_count": 56,
   "id": "59764d86-649b-4727-be28-128f86ae5242",
   "metadata": {},
   "outputs": [
    {
     "data": {
      "text/plain": [
       "(0, -0.707)"
      ]
     },
     "execution_count": 56,
     "metadata": {},
     "output_type": "execute_result"
    }
   ],
   "source": [
    "x_3 = x_2 + dx_3\n",
    "y_3 = y_2 + dy_3\n",
    "(x_3, round(float(y_3), 3))"
   ]
  },
  {
   "cell_type": "code",
   "execution_count": 57,
   "id": "beeda527-de0a-42d8-a52b-9d7fa34c7d51",
   "metadata": {},
   "outputs": [
    {
     "data": {
      "text/latex": [
       "$\\displaystyle \\text{True}$"
      ],
      "text/plain": [
       "True"
      ]
     },
     "execution_count": 57,
     "metadata": {},
     "output_type": "execute_result"
    }
   ],
   "source": [
    "abs(x_3 - x_2) <= 10 ** -2 # true\n",
    "abs(y_3 - y_2) <= 10 ** -2 # true"
   ]
  },
  {
   "cell_type": "code",
   "execution_count": 58,
   "id": "51cb119b-1009-448e-aac7-d34a3ad97032",
   "metadata": {},
   "outputs": [
    {
     "data": {
      "text/plain": [
       "(0.0, -0.707)"
      ]
     },
     "execution_count": 58,
     "metadata": {},
     "output_type": "execute_result"
    }
   ],
   "source": [
    "# Значение третьего корня:\n",
    "round(float(x_3), 3), round(float(y_3), 3)"
   ]
  },
  {
   "cell_type": "markdown",
   "id": "c10efe20-136a-4840-bf97-127fdba94df9",
   "metadata": {
    "jp-MarkdownHeadingCollapsed": true
   },
   "source": [
    "### Приближение для четвертого корня (-0.62, -0.588)"
   ]
  },
  {
   "cell_type": "code",
   "execution_count": 59,
   "id": "47add131-caf6-4418-9c02-f28501c06611",
   "metadata": {},
   "outputs": [
    {
     "data": {
      "text/plain": [
       "(0.152610340286473, 0.130622530552078)"
      ]
     },
     "execution_count": 59,
     "metadata": {},
     "output_type": "execute_result"
    }
   ],
   "source": [
    "x_0, y_0 = -0.75, -0.75\n",
    "\n",
    "iter_1_1 = (X_jacobi * D)[0].subs(x_sym, x_0).subs(y_sym, y_0) + expr_1.subs(x_sym, x_0).subs(y_sym, y_0)\n",
    "iter_1_2 = (X_jacobi * D)[1].subs(x_sym, x_0).subs(y_sym, y_0) + expr_2.subs(x_sym, x_0).subs(y_sym, y_0)\n",
    "\n",
    "res = sp.solve([iter_1_1, iter_1_2], (dx_sym, dy_sym))\n",
    "dx_1 = res[dx_sym]\n",
    "dy_1 = res[dy_sym]\n",
    "dx_1, dy_1"
   ]
  },
  {
   "cell_type": "code",
   "execution_count": 60,
   "id": "119d40bf-889f-40fb-a991-b8a6efadb8ab",
   "metadata": {},
   "outputs": [
    {
     "data": {
      "text/plain": [
       "(-0.597389659713527, -0.619377469447922)"
      ]
     },
     "execution_count": 60,
     "metadata": {},
     "output_type": "execute_result"
    }
   ],
   "source": [
    "x_1 = x_0 + dx_1\n",
    "y_1 = y_0 + dy_1\n",
    "(x_1, y_1)"
   ]
  },
  {
   "cell_type": "code",
   "execution_count": 61,
   "id": "a8ef3c27-0816-4689-abc6-62a16ce53c29",
   "metadata": {},
   "outputs": [
    {
     "data": {
      "text/latex": [
       "$\\displaystyle \\text{False}$"
      ],
      "text/plain": [
       "False"
      ]
     },
     "execution_count": 61,
     "metadata": {},
     "output_type": "execute_result"
    }
   ],
   "source": [
    "abs(x_1 - x_0) <= 10 ** -2  # false\n",
    "abs(y_1 - y_0) <= 10 ** -2  # false"
   ]
  },
  {
   "cell_type": "code",
   "execution_count": 62,
   "id": "fb9b1d73-4eda-4382-aebd-04d9c6080068",
   "metadata": {},
   "outputs": [
    {
     "data": {
      "text/plain": [
       "(-0.0218971868441185, 0.0297420685188974)"
      ]
     },
     "execution_count": 62,
     "metadata": {},
     "output_type": "execute_result"
    }
   ],
   "source": [
    "iter_2_1 = (X_jacobi * D)[0].subs(x_sym, x_1).subs(y_sym, y_1) + expr_1.subs(x_sym, x_1).subs(y_sym, y_1)\n",
    "iter_2_2 = (X_jacobi * D)[1].subs(x_sym, x_1).subs(y_sym, y_1) + expr_2.subs(x_sym, x_1).subs(y_sym, y_1)\n",
    "\n",
    "res = sp.solve([iter_2_1, iter_2_2], (dx_sym, dy_sym))\n",
    "dx_2 = res[dx_sym]\n",
    "dy_2 = res[dy_sym]\n",
    "dx_2, dy_2"
   ]
  },
  {
   "cell_type": "code",
   "execution_count": 63,
   "id": "e23eb35b-e7ad-4d88-97b0-34fdb472b57c",
   "metadata": {},
   "outputs": [
    {
     "data": {
      "text/plain": [
       "(-0.619286846557646, -0.589635400929025)"
      ]
     },
     "execution_count": 63,
     "metadata": {},
     "output_type": "execute_result"
    }
   ],
   "source": [
    "x_2 = x_1 + dx_2\n",
    "y_2 = y_1 + dy_2\n",
    "(x_2, y_2)"
   ]
  },
  {
   "cell_type": "code",
   "execution_count": 64,
   "id": "8f8c7741-dc02-461c-9cbb-75cbe254fb26",
   "metadata": {},
   "outputs": [
    {
     "data": {
      "text/latex": [
       "$\\displaystyle \\text{False}$"
      ],
      "text/plain": [
       "False"
      ]
     },
     "execution_count": 64,
     "metadata": {},
     "output_type": "execute_result"
    }
   ],
   "source": [
    "abs(x_2 - x_1) <= 10 ** -2 # false\n",
    "abs(y_2 - y_1) <= 10 ** -2 # false"
   ]
  },
  {
   "cell_type": "code",
   "execution_count": 67,
   "id": "8bbbd676-fcc1-4592-aa0f-eb22401cf6c4",
   "metadata": {},
   "outputs": [
    {
     "data": {
      "text/plain": [
       "(0.00216752161799323, 2.14645722708010e-6)"
      ]
     },
     "execution_count": 67,
     "metadata": {},
     "output_type": "execute_result"
    }
   ],
   "source": [
    "iter_3_1 = (X_jacobi * D)[0].subs(x_sym, x_2).subs(y_sym, y_2) + expr_1.subs(x_sym, x_2).subs(y_sym, y_2)\n",
    "iter_3_2 = (X_jacobi * D)[1].subs(x_sym, x_2).subs(y_sym, y_2) + expr_2.subs(x_sym, x_2).subs(y_sym, y_2)\n",
    "\n",
    "res = sp.solve([iter_3_1, iter_3_2], (dx_sym, dy_sym))\n",
    "dx_3 = res[dx_sym]\n",
    "dy_3 = res[dy_sym]\n",
    "dx_3, dy_3"
   ]
  },
  {
   "cell_type": "code",
   "execution_count": 68,
   "id": "9ed38d70-60a3-4360-8430-3a42b97e2722",
   "metadata": {},
   "outputs": [
    {
     "data": {
      "text/plain": [
       "(-0.617119324939653, -0.59)"
      ]
     },
     "execution_count": 68,
     "metadata": {},
     "output_type": "execute_result"
    }
   ],
   "source": [
    "x_3 = x_2 + dx_3\n",
    "y_3 = y_2 + dy_3\n",
    "(x_3, round(float(y_3), 3))"
   ]
  },
  {
   "cell_type": "code",
   "execution_count": 69,
   "id": "6b157368-d4c8-4aa5-8113-d05ab873b8b1",
   "metadata": {},
   "outputs": [
    {
     "data": {
      "text/latex": [
       "$\\displaystyle \\text{True}$"
      ],
      "text/plain": [
       "True"
      ]
     },
     "execution_count": 69,
     "metadata": {},
     "output_type": "execute_result"
    }
   ],
   "source": [
    "abs(x_3 - x_2) <= 10 ** -2 # true\n",
    "abs(y_3 - y_2) <= 10 ** -2 # true"
   ]
  },
  {
   "cell_type": "code",
   "execution_count": 70,
   "id": "01e08aac-9f58-4d9f-87a2-d15d085c9e6a",
   "metadata": {},
   "outputs": [
    {
     "data": {
      "text/plain": [
       "(-0.617, -0.59)"
      ]
     },
     "execution_count": 70,
     "metadata": {},
     "output_type": "execute_result"
    }
   ],
   "source": [
    "# Значение четвертого корня:\n",
    "round(float(x_3), 3), round(float(y_3), 3)"
   ]
  },
  {
   "cell_type": "markdown",
   "id": "0895a275-e17c-4f15-8fe0-ce0745b4f8aa",
   "metadata": {
    "jp-MarkdownHeadingCollapsed": true
   },
   "source": [
    "## Программный расчет"
   ]
  },
  {
   "cell_type": "markdown",
   "id": "ad256d28-c4d3-4e51-a668-1a4dd731884b",
   "metadata": {
    "jp-MarkdownHeadingCollapsed": true
   },
   "source": [
    "### Метод бисекции"
   ]
  },
  {
   "cell_type": "code",
   "execution_count": 144,
   "id": "41eb5d02-50cf-46d9-97aa-bcf9350811dc",
   "metadata": {},
   "outputs": [
    {
     "name": "stdout",
     "output_type": "stream",
     "text": [
      "(-2.74609375, -0.07061520814895861, 7)\n",
      "(0.49609375, 0.024899113178252996, 7)\n",
      "(1.67578125, -0.058532240390779755, 7)\n"
     ]
    }
   ],
   "source": [
    "for interval in manual_intervals:\n",
    "    print(bisection_method(\n",
    "        lambda x: 3 * x ** 3 + 1.7 * x ** 2 - 15.42 * x + 6.89,\n",
    "        interval,\n",
    "        10 ** - 2))"
   ]
  },
  {
   "cell_type": "markdown",
   "id": "bd51f8f0-48db-461f-a9c2-b47c55116a98",
   "metadata": {},
   "source": [
    "### Метод простой итерации"
   ]
  },
  {
   "cell_type": "code",
   "execution_count": 7,
   "id": "f08a483f-f003-4c03-a034-b4b7acb11299",
   "metadata": {},
   "outputs": [
    {
     "name": "stdout",
     "output_type": "stream",
     "text": [
      "(-2.74579820526437, -0.0578755284295847, 3)\n",
      "Не сходится. q = 2.00000000000000\n",
      "None\n",
      "Не сходится. q = 1.11029948867787\n",
      "None\n"
     ]
    }
   ],
   "source": [
    "for interval in manual_intervals:\n",
    "    print(simple_iterations_method(\n",
    "        lambda x: 3 * x ** 3 + 1.7 * x ** 2 - 15.42 * x + 6.89,\n",
    "        interval,\n",
    "        10 ** - 2))\n",
    "\n",
    "# Результаты обусловлены неточным выбором интервалов\n",
    "#"
   ]
  },
  {
   "cell_type": "code",
   "execution_count": null,
   "id": "3c47d1c9-8bac-4f5f-88ba-1b9b7814a23d",
   "metadata": {},
   "outputs": [],
   "source": []
  },
  {
   "cell_type": "code",
   "execution_count": null,
   "id": "53916acb-0199-431b-a800-2b8082f642e8",
   "metadata": {},
   "outputs": [],
   "source": []
  }
 ],
 "metadata": {
  "kernelspec": {
   "display_name": "Python 3 (ipykernel)",
   "language": "python",
   "name": "python3"
  },
  "language_info": {
   "codemirror_mode": {
    "name": "ipython",
    "version": 3
   },
   "file_extension": ".py",
   "mimetype": "text/x-python",
   "name": "python",
   "nbconvert_exporter": "python",
   "pygments_lexer": "ipython3",
   "version": "3.9.13"
  }
 },
 "nbformat": 4,
 "nbformat_minor": 5
}
